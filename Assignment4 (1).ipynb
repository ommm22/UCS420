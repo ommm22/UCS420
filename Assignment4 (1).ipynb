{
 "cells": [
  {
   "cell_type": "markdown",
   "id": "51b522e6",
   "metadata": {},
   "source": [
    "Q.1 Write a program to create a NumPy 1D-array with 5 elements and perform basic\n",
    "operations like:"
   ]
  },
  {
   "cell_type": "code",
   "execution_count": 6,
   "id": "7981183b-8442-4e60-82a3-7ea69b745749",
   "metadata": {},
   "outputs": [],
   "source": [
    "import numpy as np"
   ]
  },
  {
   "cell_type": "markdown",
   "id": "62d2a919",
   "metadata": {},
   "source": [
    "a) Addition of 2 in all the element"
   ]
  },
  {
   "cell_type": "code",
   "execution_count": 8,
   "id": "68b80887-8ee7-44b8-a4f0-906b89ede87e",
   "metadata": {},
   "outputs": [],
   "source": [
    "a = np.array([0,1,2,3,4])"
   ]
  },
  {
   "cell_type": "code",
   "execution_count": 9,
   "id": "ea73313c-a906-4a20-8e76-6d8dad162e34",
   "metadata": {},
   "outputs": [
    {
     "name": "stdout",
     "output_type": "stream",
     "text": [
      "[2 3 4 5 6]\n"
     ]
    }
   ],
   "source": [
    "print(a+2)"
   ]
  },
  {
   "cell_type": "markdown",
   "id": "643f6546",
   "metadata": {},
   "source": [
    "b) Multiply 3 with all the elements"
   ]
  },
  {
   "cell_type": "code",
   "execution_count": 11,
   "id": "be8cc55c-dd4a-4f86-b82c-567908552b87",
   "metadata": {},
   "outputs": [
    {
     "name": "stdout",
     "output_type": "stream",
     "text": [
      "[ 0  3  6  9 12]\n"
     ]
    }
   ],
   "source": [
    "print(a*3)"
   ]
  },
  {
   "cell_type": "markdown",
   "id": "031c724a",
   "metadata": {},
   "source": [
    "c) Divide every element by 2"
   ]
  },
  {
   "cell_type": "code",
   "execution_count": 12,
   "id": "be54b52b-c3dd-4907-b9bc-f1fbc5116fb1",
   "metadata": {},
   "outputs": [
    {
     "name": "stdout",
     "output_type": "stream",
     "text": [
      "[0.  0.5 1.  1.5 2. ]\n"
     ]
    }
   ],
   "source": [
    "print(a/2)"
   ]
  },
  {
   "cell_type": "markdown",
   "id": "90eb6a16",
   "metadata": {},
   "source": [
    "Q.2 Questions on Basic NumPy Array:\n",
    "a) Reverse the NumPy array: arr = np.array([1, 2, 3, 6, 4, 5])"
   ]
  },
  {
   "cell_type": "code",
   "execution_count": 13,
   "id": "19065654-2a72-42eb-bd70-233771eacaab",
   "metadata": {},
   "outputs": [],
   "source": [
    "arr = np.array([1,2,3,4,5])"
   ]
  },
  {
   "cell_type": "code",
   "execution_count": 15,
   "id": "ac029a69-e0b8-4a1e-8d7d-9567b8d17530",
   "metadata": {},
   "outputs": [
    {
     "name": "stdout",
     "output_type": "stream",
     "text": [
      "[5 4 3 2 1]\n"
     ]
    }
   ],
   "source": [
    "print(np.flip(arr))"
   ]
  },
  {
   "cell_type": "markdown",
   "id": "460fb3f8",
   "metadata": {},
   "source": [
    "b) Find the most frequent value and their indice(s) in the following arrays:\n",
    "i. x = np.array([1,2,3,4,5,1,2,1,1,1])"
   ]
  },
  {
   "cell_type": "code",
   "execution_count": 16,
   "id": "9831c64e-7db2-48b0-9da0-9830ffad96e8",
   "metadata": {},
   "outputs": [
    {
     "name": "stdout",
     "output_type": "stream",
     "text": [
      "most frequent values: 1\n",
      "Their indices: [0 5 7 8 9]\n"
     ]
    }
   ],
   "source": [
    "x=np.array([1,2,3,4,5,1,2,1,1,1])\n",
    "freq = np.bincount(x).argmax()\n",
    "print(\"most frequent values:\", freq)\n",
    "print(\"Their indices:\", np.where(x==freq)[0])"
   ]
  },
  {
   "cell_type": "markdown",
   "id": "1c62d515",
   "metadata": {},
   "source": [
    "ii. y = np.array([1, 1, 1, 2, 3, 4, 2, 4, 3, 3, ])"
   ]
  },
  {
   "cell_type": "code",
   "execution_count": 17,
   "id": "e5f739c8-2be9-4d17-8209-2b689848ae05",
   "metadata": {},
   "outputs": [
    {
     "name": "stdout",
     "output_type": "stream",
     "text": [
      "most frequent values: 1\n",
      "Their indices: [0 1 2]\n"
     ]
    }
   ],
   "source": [
    "y=np.array([1,1,1,2,3,4,2,4,3,3])\n",
    "freq = np.bincount(y).argmax()\n",
    "print(\"most frequent values:\", freq)\n",
    "print(\"Their indices:\", np.where(y==freq)[0])"
   ]
  },
  {
   "cell_type": "markdown",
   "id": "50b65b5a",
   "metadata": {},
   "source": [
    "Q.3 For the given 2-D array arr=np.array([10, 20, 30], [40, 50, 60], [70, 80, 90]), access\n",
    "elements using row and column indices as follows:"
   ]
  },
  {
   "cell_type": "code",
   "execution_count": 20,
   "id": "0d154f38-7b30-4bef-9cda-2380ae117c85",
   "metadata": {},
   "outputs": [],
   "source": [
    "arr = np.array([[10,20,30], [40,50,60], [70,80,90]])"
   ]
  },
  {
   "cell_type": "markdown",
   "id": "79a438da",
   "metadata": {},
   "source": [
    "a) Access 1st row, 2nd column"
   ]
  },
  {
   "cell_type": "code",
   "execution_count": 26,
   "id": "4324c4a4-81e4-46d6-95de-581bf2f364f8",
   "metadata": {},
   "outputs": [
    {
     "name": "stdout",
     "output_type": "stream",
     "text": [
      "20\n"
     ]
    }
   ],
   "source": [
    "print(arr[0][1])"
   ]
  },
  {
   "cell_type": "markdown",
   "id": "e8b1ef5d",
   "metadata": {},
   "source": [
    "b) Access 3rd row, 1st column"
   ]
  },
  {
   "cell_type": "code",
   "execution_count": 27,
   "id": "e9e45a3c-d66a-404d-abae-8619a3f39c11",
   "metadata": {},
   "outputs": [
    {
     "name": "stdout",
     "output_type": "stream",
     "text": [
      "70\n"
     ]
    }
   ],
   "source": [
    "print(arr[2][0])"
   ]
  },
  {
   "cell_type": "markdown",
   "id": "9f0d3f29",
   "metadata": {},
   "source": [
    "Q.4 Write program to create an 1-D NumPy array named <<Your Name>> with evenly\n",
    "spaced 25 numbers from 10 to 100 using linspace(). Print the dimensions of the array,\n",
    "shape, total elements, the data type of each element and total number of bytes consumed\n",
    "by the array. Find the transpose of this array using reshape() attribute. Can we do the same\n",
    "with T attribute?"
   ]
  },
  {
   "cell_type": "code",
   "execution_count": 24,
   "id": "678e08ef-f5c1-4535-a3c1-e40a520ba848",
   "metadata": {},
   "outputs": [
    {
     "name": "stdout",
     "output_type": "stream",
     "text": [
      "Array: [ 10.    13.75  17.5   21.25  25.    28.75  32.5   36.25  40.    43.75\n",
      "  47.5   51.25  55.    58.75  62.5   66.25  70.    73.75  77.5   81.25\n",
      "  85.    88.75  92.5   96.25 100.  ]\n",
      "Dimensions: 1\n",
      "Shape: (25,)\n",
      "Total elements: 25\n",
      "Data type of elements: float64\n",
      "Total bytes consumed: 200\n",
      "\n",
      "Reshaped (Transposed) Array:\n",
      " [[ 10.  ]\n",
      " [ 13.75]\n",
      " [ 17.5 ]\n",
      " [ 21.25]\n",
      " [ 25.  ]\n",
      " [ 28.75]\n",
      " [ 32.5 ]\n",
      " [ 36.25]\n",
      " [ 40.  ]\n",
      " [ 43.75]\n",
      " [ 47.5 ]\n",
      " [ 51.25]\n",
      " [ 55.  ]\n",
      " [ 58.75]\n",
      " [ 62.5 ]\n",
      " [ 66.25]\n",
      " [ 70.  ]\n",
      " [ 73.75]\n",
      " [ 77.5 ]\n",
      " [ 81.25]\n",
      " [ 85.  ]\n",
      " [ 88.75]\n",
      " [ 92.5 ]\n",
      " [ 96.25]\n",
      " [100.  ]]\n",
      "\n",
      "Using T attribute:\n",
      " [ 10.    13.75  17.5   21.25  25.    28.75  32.5   36.25  40.    43.75\n",
      "  47.5   51.25  55.    58.75  62.5   66.25  70.    73.75  77.5   81.25\n",
      "  85.    88.75  92.5   96.25 100.  ]\n"
     ]
    }
   ],
   "source": [
    "om = np.linspace(10, 100, 25)\n",
    "\n",
    "print(\"Array:\", om)\n",
    "print(\"Dimensions:\", om.ndim)\n",
    "print(\"Shape:\", om.shape)\n",
    "print(\"Total elements:\", om.size)\n",
    "print(\"Data type of elements:\", om.dtype)\n",
    "print(\"Total bytes consumed:\", om.nbytes)\n",
    "\n",
    "om_transposed = om.reshape(25, 1)\n",
    "print(\"\\nReshaped (Transposed) Array:\\n\", om_transposed)\n",
    "\n",
    "print(\"\\nUsing T attribute:\\n\", om.T)  \n"
   ]
  },
  {
   "cell_type": "markdown",
   "id": "19b59d72",
   "metadata": {},
   "source": [
    "Q5. Create a 2-D Array of three rows and four columns, named ucs420_<your_name>>\n",
    "with following values – 10, 20, 30, 40, 50, 60, 70, 80, 90, 15, 20, 35. Compute the mean,\n",
    "median, max, min, unique elements. Reshape the array to four rows and three columns and\n",
    "name it as reshaped_ ucs420_<your_name>>. Resize the array to two rows and three\n",
    "columns and name it as resized_ ucs420_<your_name>>."
   ]
  },
  {
   "cell_type": "code",
   "execution_count": 25,
   "id": "3abbb9d3-fff4-4f08-9b45-30182f236163",
   "metadata": {},
   "outputs": [
    {
     "name": "stdout",
     "output_type": "stream",
     "text": [
      "Mean: 43.333333333333336\n",
      "Median: 37.5\n",
      "Max: 90\n",
      "Min: 10\n",
      "Unique elements: [10 15 20 30 35 40 50 60 70 80 90]\n",
      "\n",
      "Reshaped Array (4x3):\n",
      " [[10 20 30]\n",
      " [40 50 60]\n",
      " [70 80 90]\n",
      " [15 20 35]]\n",
      "\n",
      "Resized Array (2x3):\n",
      " [[10 20 30]\n",
      " [40 50 60]]\n"
     ]
    }
   ],
   "source": [
    "ucs420_om = np.array([[10, 20, 30, 40], \n",
    "                             [50, 60, 70, 80], \n",
    "                             [90, 15, 20, 35]])\n",
    "\n",
    "print(\"Mean:\", np.mean(ucs420_om))\n",
    "print(\"Median:\", np.median(ucs420_om))\n",
    "print(\"Max:\", np.max(ucs420_om))\n",
    "print(\"Min:\", np.min(ucs420_om))\n",
    "print(\"Unique elements:\", np.unique(ucs420_om))\n",
    "\n",
    "reshaped_ucs420_om = ucs420_om.reshape(4, 3)\n",
    "print(\"\\nReshaped Array (4x3):\\n\", reshaped_ucs420_om)\n",
    "\n",
    "resized_ucs420_om = np.resize(ucs420_om, (2, 3))\n",
    "print(\"\\nResized Array (2x3):\\n\", resized_ucs420_om)"
   ]
  },
  {
   "cell_type": "code",
   "execution_count": null,
   "id": "ae6d0db2-4873-4c67-bf98-0f3048bb2d5b",
   "metadata": {},
   "outputs": [],
   "source": []
  }
 ],
 "metadata": {
  "kernelspec": {
   "display_name": "Python 3 (ipykernel)",
   "language": "python",
   "name": "python3"
  },
  "language_info": {
   "codemirror_mode": {
    "name": "ipython",
    "version": 3
   },
   "file_extension": ".py",
   "mimetype": "text/x-python",
   "name": "python",
   "nbconvert_exporter": "python",
   "pygments_lexer": "ipython3",
   "version": "3.13.1"
  }
 },
 "nbformat": 4,
 "nbformat_minor": 5
}
