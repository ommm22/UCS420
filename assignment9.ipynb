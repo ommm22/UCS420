{
 "cells": [
  {
   "cell_type": "markdown",
   "id": "c9c657df-f6a4-4cdc-844f-697078ab3480",
   "metadata": {},
   "source": [
    "# Q1. Write a unique paragraph (5-6 sentences) about your favorite topic (e.g., sports, technology, food, books, etc.).\n",
    "1. Convert text to lowercase and remove punctuation.\n",
    "2. Tokenize the text into words and sentences.\n",
    "3. Remove stopwords (using NLTK's stopwords list).\n",
    "4. Display word frequency distribution (excluding stopwords)."
   ]
  },
  {
   "cell_type": "code",
   "execution_count": 3,
   "id": "0b782ef5-dc58-46b2-941d-fdbe67508a4a",
   "metadata": {},
   "outputs": [],
   "source": [
    "import nltk\n",
    "import re\n",
    "import string\n",
    "from nltk.corpus import stopwords\n",
    "from nltk.tokenize import word_tokenize, sent_tokenize\n",
    "from nltk.stem import PorterStemmer, LancasterStemmer, WordNetLemmatizer"
   ]
  },
  {
   "cell_type": "code",
   "execution_count": 4,
   "id": "b355d0fe-3cd5-4392-89ba-c2ab6cfe471d",
   "metadata": {},
   "outputs": [
    {
     "name": "stderr",
     "output_type": "stream",
     "text": [
      "[nltk_data] Downloading package punkt to\n",
      "[nltk_data]     C:\\Users\\User\\AppData\\Roaming\\nltk_data...\n",
      "[nltk_data]   Unzipping tokenizers\\punkt.zip.\n",
      "[nltk_data] Downloading package stopwords to\n",
      "[nltk_data]     C:\\Users\\User\\AppData\\Roaming\\nltk_data...\n",
      "[nltk_data]   Unzipping corpora\\stopwords.zip.\n",
      "[nltk_data] Downloading package wordnet to\n",
      "[nltk_data]     C:\\Users\\User\\AppData\\Roaming\\nltk_data...\n",
      "[nltk_data] Downloading package punkt_tab to\n",
      "[nltk_data]     C:\\Users\\User\\AppData\\Roaming\\nltk_data...\n",
      "[nltk_data]   Unzipping tokenizers\\punkt_tab.zip.\n"
     ]
    },
    {
     "data": {
      "text/plain": [
       "True"
      ]
     },
     "execution_count": 4,
     "metadata": {},
     "output_type": "execute_result"
    }
   ],
   "source": [
    "nltk.download('punkt')\n",
    "nltk.download('stopwords')\n",
    "nltk.download('wordnet')\n",
    "nltk.download('punkt_tab')"
   ]
  },
  {
   "cell_type": "code",
   "execution_count": 5,
   "id": "6048a720-d227-491e-b378-f2492f6bd3aa",
   "metadata": {},
   "outputs": [],
   "source": [
    "text = \"\"\"\n",
    "Sports have a unique ability to unite people from all walks of life, transcending language, culture, and geography. Whether it's the electric atmosphere of a packed stadium or the quiet focus of an early morning run, sports inspire passion, discipline, and resilience. I’m especially fascinated by how athletes push the limits of human performance through a combination of physical skill and mental strength. From the strategy in a chess match to the raw energy of a soccer final, every sport tells a story of competition and camaraderie. Beyond entertainment, sports also promote health, teamwork, and a sense of purpose for millions around the world. It’s this blend of emotion, science, and spirit that makes sports endlessly compelling.\"\"\""
   ]
  },
  {
   "cell_type": "code",
   "execution_count": 6,
   "id": "9f136109-6c41-403e-8400-59c8a5a083a1",
   "metadata": {},
   "outputs": [
    {
     "name": "stdout",
     "output_type": "stream",
     "text": [
      "\n",
      "sports have a unique ability to unite people from all walks of life transcending language culture and geography whether its the electric atmosphere of a packed stadium or the quiet focus of an early morning run sports inspire passion discipline and resilience i’m especially fascinated by how athletes push the limits of human performance through a combination of physical skill and mental strength from the strategy in a chess match to the raw energy of a soccer final every sport tells a story of competition and camaraderie beyond entertainment sports also promote health teamwork and a sense of purpose for millions around the world it’s this blend of emotion science and spirit that makes sports endlessly compelling\n"
     ]
    }
   ],
   "source": [
    "text_lower = text.lower()\n",
    "text_clean = text_lower.translate(str.maketrans('', '', string.punctuation))\n",
    "print(text_clean)"
   ]
  },
  {
   "cell_type": "code",
   "execution_count": 7,
   "id": "88b8a947-fd38-4b71-9698-2a0c5db54743",
   "metadata": {},
   "outputs": [
    {
     "name": "stdout",
     "output_type": "stream",
     "text": [
      "['sports', 'have', 'a', 'unique', 'ability', 'to', 'unite', 'people', 'from', 'all', 'walks', 'of', 'life', 'transcending', 'language', 'culture', 'and', 'geography', 'whether', 'its', 'the', 'electric', 'atmosphere', 'of', 'a', 'packed', 'stadium', 'or', 'the', 'quiet', 'focus', 'of', 'an', 'early', 'morning', 'run', 'sports', 'inspire', 'passion', 'discipline', 'and', 'resilience', 'i', '’', 'm', 'especially', 'fascinated', 'by', 'how', 'athletes', 'push', 'the', 'limits', 'of', 'human', 'performance', 'through', 'a', 'combination', 'of', 'physical', 'skill', 'and', 'mental', 'strength', 'from', 'the', 'strategy', 'in', 'a', 'chess', 'match', 'to', 'the', 'raw', 'energy', 'of', 'a', 'soccer', 'final', 'every', 'sport', 'tells', 'a', 'story', 'of', 'competition', 'and', 'camaraderie', 'beyond', 'entertainment', 'sports', 'also', 'promote', 'health', 'teamwork', 'and', 'a', 'sense', 'of', 'purpose', 'for', 'millions', 'around', 'the', 'world', 'it', '’', 's', 'this', 'blend', 'of', 'emotion', 'science', 'and', 'spirit', 'that', 'makes', 'sports', 'endlessly', 'compelling']\n",
      "['\\nsports have a unique ability to unite people from all walks of life transcending language culture and geography whether its the electric atmosphere of a packed stadium or the quiet focus of an early morning run sports inspire passion discipline and resilience i’m especially fascinated by how athletes push the limits of human performance through a combination of physical skill and mental strength from the strategy in a chess match to the raw energy of a soccer final every sport tells a story of competition and camaraderie beyond entertainment sports also promote health teamwork and a sense of purpose for millions around the world it’s this blend of emotion science and spirit that makes sports endlessly compelling']\n"
     ]
    }
   ],
   "source": [
    "word_tokens = word_tokenize(text_clean)\n",
    "sent_tokens = sent_tokenize(text_clean)\n",
    "print(word_tokens)\n",
    "print(sent_tokens)"
   ]
  },
  {
   "cell_type": "code",
   "execution_count": 8,
   "id": "5f1d41e9-343a-4808-8df7-67ceeee8eb99",
   "metadata": {},
   "outputs": [
    {
     "name": "stdout",
     "output_type": "stream",
     "text": [
      "['sports', 'unique', 'ability', 'unite', 'people', 'walks', 'life', 'transcending', 'language', 'culture', 'geography', 'whether', 'electric', 'atmosphere', 'packed', 'stadium', 'quiet', 'focus', 'early', 'morning', 'run', 'sports', 'inspire', 'passion', 'discipline', 'resilience', '’', 'especially', 'fascinated', 'athletes', 'push', 'limits', 'human', 'performance', 'combination', 'physical', 'skill', 'mental', 'strength', 'strategy', 'chess', 'match', 'raw', 'energy', 'soccer', 'final', 'every', 'sport', 'tells', 'story', 'competition', 'camaraderie', 'beyond', 'entertainment', 'sports', 'also', 'promote', 'health', 'teamwork', 'sense', 'purpose', 'millions', 'around', 'world', '’', 'blend', 'emotion', 'science', 'spirit', 'makes', 'sports', 'endlessly', 'compelling']\n"
     ]
    }
   ],
   "source": [
    "stop_words = set(stopwords.words('english'))\n",
    "filtered_words = [word for word in word_tokens if word not in stop_words]\n",
    "print(filtered_words)"
   ]
  },
  {
   "cell_type": "code",
   "execution_count": 9,
   "id": "1d658086-4e52-4fad-8d48-7ee391147e8b",
   "metadata": {},
   "outputs": [
    {
     "name": "stdout",
     "output_type": "stream",
     "text": [
      "Word Frequency Distribution (excluding stopwords):\n",
      "[('sports', 4), ('’', 2), ('unique', 1), ('ability', 1), ('unite', 1), ('people', 1), ('walks', 1), ('life', 1), ('transcending', 1), ('language', 1), ('culture', 1), ('geography', 1), ('whether', 1), ('electric', 1), ('atmosphere', 1), ('packed', 1), ('stadium', 1), ('quiet', 1), ('focus', 1), ('early', 1), ('morning', 1), ('run', 1), ('inspire', 1), ('passion', 1), ('discipline', 1), ('resilience', 1), ('especially', 1), ('fascinated', 1), ('athletes', 1), ('push', 1), ('limits', 1), ('human', 1), ('performance', 1), ('combination', 1), ('physical', 1), ('skill', 1), ('mental', 1), ('strength', 1), ('strategy', 1), ('chess', 1), ('match', 1), ('raw', 1), ('energy', 1), ('soccer', 1), ('final', 1), ('every', 1), ('sport', 1), ('tells', 1), ('story', 1), ('competition', 1), ('camaraderie', 1), ('beyond', 1), ('entertainment', 1), ('also', 1), ('promote', 1), ('health', 1), ('teamwork', 1), ('sense', 1), ('purpose', 1), ('millions', 1), ('around', 1), ('world', 1), ('blend', 1), ('emotion', 1), ('science', 1), ('spirit', 1), ('makes', 1), ('endlessly', 1), ('compelling', 1)]\n"
     ]
    }
   ],
   "source": [
    "from collections import Counter\n",
    "freq_dist = nltk.FreqDist(filtered_words)\n",
    "\n",
    "print(\"Word Frequency Distribution (excluding stopwords):\")\n",
    "print(freq_dist.most_common())"
   ]
  },
  {
   "cell_type": "markdown",
   "id": "d32f1410-7712-44a8-a8b5-b8ad4411053b",
   "metadata": {},
   "source": [
    "# Q2: Stemming and Lemmatization\n",
    "1. Take the tokenized words from QuesƟon 1 (after stopword removal).\n",
    "2. Apply stemming using NLTK's PorterStemmer and LancasterStemmer.\n",
    "3. Apply lemmatization using NLTK's WordNetLemmatizer.\n",
    "4. Compare and display results of both techniques."
   ]
  },
  {
   "cell_type": "code",
   "execution_count": 10,
   "id": "ab6bac9f-89d9-489f-9d47-8efcb2665fd8",
   "metadata": {},
   "outputs": [],
   "source": [
    "porter = PorterStemmer()\n",
    "lancaster = LancasterStemmer()\n",
    "lemmatizer = WordNetLemmatizer()"
   ]
  },
  {
   "cell_type": "code",
   "execution_count": 11,
   "id": "5d1af171-eec1-4220-bc7f-a33ca9b7ae0c",
   "metadata": {},
   "outputs": [],
   "source": [
    "porter_stemmed = [porter.stem(word) for word in filtered_words]\n",
    "lancaster_stemmed = [lancaster.stem(word) for word in filtered_words]\n",
    "lemmatized = [lemmatizer.lemmatize(word) for word in filtered_words]"
   ]
  },
  {
   "cell_type": "code",
   "execution_count": 12,
   "id": "258a91e1-091d-4cd4-91c2-f1ddc6a56959",
   "metadata": {},
   "outputs": [
    {
     "name": "stdout",
     "output_type": "stream",
     "text": [
      "\n",
      "Porter Stemmer: ['sport', 'uniqu', 'abil', 'unit', 'peopl', 'walk', 'life', 'transcend', 'languag', 'cultur', 'geographi', 'whether', 'electr', 'atmospher', 'pack', 'stadium', 'quiet', 'focu', 'earli', 'morn', 'run', 'sport', 'inspir', 'passion', 'disciplin', 'resili', '’', 'especi', 'fascin', 'athlet', 'push', 'limit', 'human', 'perform', 'combin', 'physic', 'skill', 'mental', 'strength', 'strategi', 'chess', 'match', 'raw', 'energi', 'soccer', 'final', 'everi', 'sport', 'tell', 'stori', 'competit', 'camaraderi', 'beyond', 'entertain', 'sport', 'also', 'promot', 'health', 'teamwork', 'sens', 'purpos', 'million', 'around', 'world', '’', 'blend', 'emot', 'scienc', 'spirit', 'make', 'sport', 'endlessli', 'compel']\n",
      "\n",
      "Lancaster Stemmer: ['sport', 'un', 'abl', 'unit', 'peopl', 'walk', 'lif', 'transcend', 'langu', 'cult', 'geograph', 'wheth', 'elect', 'atmosph', 'pack', 'stad', 'quiet', 'foc', 'ear', 'morn', 'run', 'sport', 'inspir', 'pass', 'disciplin', 'resy', '’', 'espec', 'fascin', 'athlet', 'push', 'limit', 'hum', 'perform', 'combin', 'phys', 'skil', 'ment', 'strength', 'strategy', 'chess', 'match', 'raw', 'energy', 'socc', 'fin', 'every', 'sport', 'tel', 'story', 'competit', 'camaradery', 'beyond', 'entertain', 'sport', 'also', 'promot', 'heal', 'teamwork', 'sens', 'purpos', 'mil', 'around', 'world', '’', 'blend', 'emot', 'sci', 'spirit', 'mak', 'sport', 'endless', 'compel']\n",
      "\n",
      "Lemmatized: ['sport', 'unique', 'ability', 'unite', 'people', 'walk', 'life', 'transcending', 'language', 'culture', 'geography', 'whether', 'electric', 'atmosphere', 'packed', 'stadium', 'quiet', 'focus', 'early', 'morning', 'run', 'sport', 'inspire', 'passion', 'discipline', 'resilience', '’', 'especially', 'fascinated', 'athlete', 'push', 'limit', 'human', 'performance', 'combination', 'physical', 'skill', 'mental', 'strength', 'strategy', 'chess', 'match', 'raw', 'energy', 'soccer', 'final', 'every', 'sport', 'tell', 'story', 'competition', 'camaraderie', 'beyond', 'entertainment', 'sport', 'also', 'promote', 'health', 'teamwork', 'sense', 'purpose', 'million', 'around', 'world', '’', 'blend', 'emotion', 'science', 'spirit', 'make', 'sport', 'endlessly', 'compelling']\n"
     ]
    }
   ],
   "source": [
    "print(\"\\nPorter Stemmer:\", porter_stemmed)\n",
    "print(\"\\nLancaster Stemmer:\", lancaster_stemmed)\n",
    "print(\"\\nLemmatized:\", lemmatized)"
   ]
  },
  {
   "cell_type": "markdown",
   "id": "07d646b0-09b7-4256-af4b-7c2350307d5f",
   "metadata": {},
   "source": [
    "# Q3. Regular Expressions and Text Splitting\n",
    "\n",
    "- 1. Take the original text from Question 1.\n",
    "- 2. Use regular expressions to:\n",
    "  - a. Extract all words with more than 5 letters.\n",
    "  - b. Extract all numbers (if any exist in their text).\n",
    "  - c. Extract all capitalized words.\n",
    "- 3. Use text splitting techniques to:\n",
    "  - a. Split the text into words containing only alphabets (removing digits and special characters).\n",
    "  - b. Extract words starting with a vowel."
   ]
  },
  {
   "cell_type": "code",
   "execution_count": 13,
   "id": "ebf6a3e3-8931-44fe-b273-469f55bf54b1",
   "metadata": {},
   "outputs": [],
   "source": [
    "words_gt_5 = re.findall(r'\\b\\w{6,}\\b', text)\n",
    "numbers = re.findall(r'\\d+', text)\n",
    "capitalized = re.findall(r'\\b[A-Z][a-z]*\\b', text)\n",
    "alpha_words = re.findall(r'\\b[a-zA-Z]+\\b', text)\n",
    "vowel_words = [word for word in alpha_words if word[0].lower() in 'aeiou']"
   ]
  },
  {
   "cell_type": "code",
   "execution_count": 14,
   "id": "297af476-ce40-4b12-8ffa-cb11be239378",
   "metadata": {},
   "outputs": [
    {
     "name": "stdout",
     "output_type": "stream",
     "text": [
      "\n",
      "Words > 5 letters: ['Sports', 'unique', 'ability', 'people', 'transcending', 'language', 'culture', 'geography', 'Whether', 'electric', 'atmosphere', 'packed', 'stadium', 'morning', 'sports', 'inspire', 'passion', 'discipline', 'resilience', 'especially', 'fascinated', 'athletes', 'limits', 'performance', 'through', 'combination', 'physical', 'mental', 'strength', 'strategy', 'energy', 'soccer', 'competition', 'camaraderie', 'Beyond', 'entertainment', 'sports', 'promote', 'health', 'teamwork', 'purpose', 'millions', 'around', 'emotion', 'science', 'spirit', 'sports', 'endlessly', 'compelling']\n",
      "\n",
      "Numbers: []\n",
      "\n",
      "Capitalized Words: ['Sports', 'Whether', 'I', 'From', 'Beyond', 'It']\n",
      "\n",
      "Alphabetic Words: ['Sports', 'have', 'a', 'unique', 'ability', 'to', 'unite', 'people', 'from', 'all', 'walks', 'of', 'life', 'transcending', 'language', 'culture', 'and', 'geography', 'Whether', 'it', 's', 'the', 'electric', 'atmosphere', 'of', 'a', 'packed', 'stadium', 'or', 'the', 'quiet', 'focus', 'of', 'an', 'early', 'morning', 'run', 'sports', 'inspire', 'passion', 'discipline', 'and', 'resilience', 'I', 'm', 'especially', 'fascinated', 'by', 'how', 'athletes', 'push', 'the', 'limits', 'of', 'human', 'performance', 'through', 'a', 'combination', 'of', 'physical', 'skill', 'and', 'mental', 'strength', 'From', 'the', 'strategy', 'in', 'a', 'chess', 'match', 'to', 'the', 'raw', 'energy', 'of', 'a', 'soccer', 'final', 'every', 'sport', 'tells', 'a', 'story', 'of', 'competition', 'and', 'camaraderie', 'Beyond', 'entertainment', 'sports', 'also', 'promote', 'health', 'teamwork', 'and', 'a', 'sense', 'of', 'purpose', 'for', 'millions', 'around', 'the', 'world', 'It', 's', 'this', 'blend', 'of', 'emotion', 'science', 'and', 'spirit', 'that', 'makes', 'sports', 'endlessly', 'compelling']\n",
      "\n",
      "Words starting with vowels: ['a', 'unique', 'ability', 'unite', 'all', 'of', 'and', 'it', 'electric', 'atmosphere', 'of', 'a', 'or', 'of', 'an', 'early', 'inspire', 'and', 'I', 'especially', 'athletes', 'of', 'a', 'of', 'and', 'in', 'a', 'energy', 'of', 'a', 'every', 'a', 'of', 'and', 'entertainment', 'also', 'and', 'a', 'of', 'around', 'It', 'of', 'emotion', 'and', 'endlessly']\n"
     ]
    }
   ],
   "source": [
    "print(\"\\nWords > 5 letters:\", words_gt_5)\n",
    "print(\"\\nNumbers:\", numbers)\n",
    "print(\"\\nCapitalized Words:\", capitalized)\n",
    "print(\"\\nAlphabetic Words:\", alpha_words)\n",
    "print(\"\\nWords starting with vowels:\", vowel_words)"
   ]
  },
  {
   "cell_type": "markdown",
   "id": "b54c97fe-6988-4915-b565-48ba7d6ee1e5",
   "metadata": {},
   "source": [
    "# Q4. Custom Tokenization & Regex-based Text Cleaning\n",
    "\n",
    "- 1. Take original text from Question 1.\n",
    "- 2. Write a custom tokenization function that:\n",
    "   - a. Removes punctuation and special symbols, but keeps contractions (e.g., \"isn't\" should not be split into \"is\" and \"n't\").\n",
    "   - b. Handles hyphenated words as a single token (e.g., \"state-of-the-art\" remains a single token).\n",
    "   - c. Tokenizes numbers separately but keeps decimal numbers intact (e.g., \"3.14\" should remain as is).\n",
    "- 3. Use Regex Substitutions (re.sub) to:\n",
    "   - a. Replace email addresses with '<EMAIL>' placeholder.\n",
    "   - b. Replace URLs with '<URL>' placeholder.\n",
    "   - c. Replace phone numbers (formats: 123-456-7890 or +91 9876543210) with '<PHONE>' placeholder."
   ]
  },
  {
   "cell_type": "code",
   "execution_count": 15,
   "id": "3ddc211a-b3ca-4181-9dc0-0dc439784096",
   "metadata": {},
   "outputs": [
    {
     "name": "stdout",
     "output_type": "stream",
     "text": [
      "\n",
      "Custom Tokens: ['Sports', 'have', 'a', 'unique', 'ability', 'to', 'unite', 'people', 'from', 'all', 'walks', 'of', 'life', 'transcending', 'language', 'culture', 'and', 'geography', 'Whether', \"it's\", 'the', 'electric', 'atmosphere', 'of', 'a', 'packed', 'stadium', 'or', 'the', 'quiet', 'focus', 'of', 'an', 'early', 'morning', 'run', 'sports', 'inspire', 'passion', 'discipline', 'and', 'resilience', 'I', 'm', 'especially', 'fascinated', 'by', 'how', 'athletes', 'push', 'the', 'limits', 'of', 'human', 'performance', 'through', 'a', 'combination', 'of', 'physical', 'skill', 'and', 'mental', 'strength', 'From', 'the', 'strategy', 'in', 'a', 'chess', 'match', 'to', 'the', 'raw', 'energy', 'of', 'a', 'soccer', 'final', 'every', 'sport', 'tells', 'a', 'story', 'of', 'competition', 'and', 'camaraderie', 'Beyond', 'entertainment', 'sports', 'also', 'promote', 'health', 'teamwork', 'and', 'a', 'sense', 'of', 'purpose', 'for', 'millions', 'around', 'the', 'world', 'It', 's', 'this', 'blend', 'of', 'emotion', 'science', 'and', 'spirit', 'that', 'makes', 'sports', 'endlessly', 'compelling']\n",
      "\n",
      "Text after substitutions: \n",
      "Sports have a unique ability to unite people from all walks of life, transcending language, culture, and geography. Whether it's the electric atmosphere of a packed stadium or the quiet focus of an early morning run, sports inspire passion, discipline, and resilience. I’m especially fascinated by how athletes push the limits of human performance through a combination of physical skill and mental strength. From the strategy in a chess match to the raw energy of a soccer final, every sport tells a story of competition and camaraderie. Beyond entertainment, sports also promote health, teamwork, and a sense of purpose for millions around the world. It’s this blend of emotion, science, and spirit that makes sports endlessly compelling.\n"
     ]
    }
   ],
   "source": [
    "def custom_tokenizer(text):\n",
    "    pattern = r\"\\b(?:[a-zA-Z]+(?:'[a-z]+)?(?:-[a-z]+)*|\\d+(?:\\.\\d+)?)\\b\"\n",
    "    return re.findall(pattern, text)\n",
    "\n",
    "custom_tokens = custom_tokenizer(text)\n",
    "\n",
    "text_sub = re.sub(r'\\b[\\w\\.-]+@[\\w\\.-]+\\.\\w+\\b', '<EMAIL>', text)\n",
    "text_sub = re.sub(r'http\\S+|www\\.\\S+', '<URL>', text_sub)\n",
    "text_sub = re.sub(r'\\b(?:\\+91[-\\s]?|0)?\\d{10}\\b|\\d{3}-\\d{3}-\\d{4}', '<PHONE>', text_sub)\n",
    "\n",
    "print(\"\\nCustom Tokens:\", custom_tokens)\n",
    "print(\"\\nText after substitutions:\", text_sub)"
   ]
  }
 ],
 "metadata": {
  "kernelspec": {
   "display_name": "Python 3 (ipykernel)",
   "language": "python",
   "name": "python3"
  },
  "language_info": {
   "codemirror_mode": {
    "name": "ipython",
    "version": 3
   },
   "file_extension": ".py",
   "mimetype": "text/x-python",
   "name": "python",
   "nbconvert_exporter": "python",
   "pygments_lexer": "ipython3",
   "version": "3.13.1"
  }
 },
 "nbformat": 4,
 "nbformat_minor": 5
}
