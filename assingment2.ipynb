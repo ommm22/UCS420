{
 "cells": [
  {
   "cell_type": "markdown",
   "metadata": {},
   "source": [
    "1. Create a List L that is defined as= [10, 20, 30, 40, 50, 60, 70, 80].\n",
    "i. WAP to add 200 and 300 to L.\n",
    "ii. WAP to remove 10 and 30 from L.\n",
    "iii. WAP to sort L in ascending order.\n",
    "iv. WAP to sort L in descending order."
   ]
  },
  {
   "cell_type": "code",
   "execution_count": 1,
   "metadata": {},
   "outputs": [
    {
     "name": "stdout",
     "output_type": "stream",
     "text": [
      "Ascending order: [20, 40, 50, 60, 70, 80, 200, 300]\n",
      "Descending order: [300, 200, 80, 70, 60, 50, 40, 20]\n"
     ]
    }
   ],
   "source": [
    "\n",
    "L = [10, 20, 30, 40, 50, 60, 70, 80]\n",
    "\n",
    "L.append(200)\n",
    "L.append(300)\n",
    "\n",
    "L.remove(10)\n",
    "L.remove(30)\n",
    "\n",
    "L.sort()\n",
    "print(\"Ascending order:\", L)\n",
    "\n",
    "L.sort(reverse=True)\n",
    "print(\"Descending order:\", L)\n"
   ]
  },
  {
   "cell_type": "markdown",
   "metadata": {},
   "source": [
    "2. Create a tuple of marks scored as scores = (45, 89.5, 76, 45.4, 89, 92, 58, 45) and\n",
    "perform the following operations using tuple functions:\n",
    "i. Identify the highest score and its index in the tuple.\n",
    "ii. Find the lowest score and count how many times it appears.\n",
    "iii. Reverse the tuple and return it as a list.\n",
    "iv. Check if a specific score ‘76’ (input by the user) is present in the tuple and\n",
    "print its first occurrence index, or a message saying it’s not present."
   ]
  },
  {
   "cell_type": "code",
   "execution_count": 2,
   "metadata": {},
   "outputs": [
    {
     "name": "stdout",
     "output_type": "stream",
     "text": [
      "Highest score: 92, Index: 5\n",
      "Lowest score: 45, Count: 2\n",
      "Reversed list: [45, 58, 92, 89, 45.4, 76, 89.5, 45]\n",
      "Score 76 is present at index 2.\n"
     ]
    }
   ],
   "source": [
    "scores = (45, 89.5, 76, 45.4, 89, 92, 58, 45)\n",
    "\n",
    "highest_score = max(scores)\n",
    "highest_index = scores.index(highest_score)\n",
    "print(f\"Highest score: {highest_score}, Index: {highest_index}\")\n",
    "\n",
    "lowest_score = min(scores)\n",
    "count_lowest = scores.count(lowest_score)\n",
    "print(f\"Lowest score: {lowest_score}, Count: {count_lowest}\")\n",
    "\n",
    "reversed_list = list(reversed(scores))\n",
    "print(\"Reversed list:\", reversed_list)\n",
    "\n",
    "user_input = 76 \n",
    "if user_input in scores:\n",
    "    first_occurrence = scores.index(user_input)\n",
    "    print(f\"Score {user_input} is present at index {first_occurrence}.\")\n",
    "else:\n",
    "    print(f\"Score {user_input} is not present in the tuple.\")\n"
   ]
  },
  {
   "cell_type": "markdown",
   "metadata": {},
   "source": [
    "3. WAP to create a list of 100 random numbers between 100 and 900. Count and print\n",
    "the:\n",
    "i. All odd numbers\n",
    "ii. All even numbers\n",
    "iii. All prime numbers"
   ]
  },
  {
   "cell_type": "code",
   "execution_count": 3,
   "metadata": {},
   "outputs": [
    {
     "name": "stdout",
     "output_type": "stream",
     "text": [
      "Odd numbers (55): [563, 329, 499, 855, 837, 111, 541, 839, 489, 367, 543, 469, 833, 107, 383, 383, 527, 427, 535, 365, 873, 261, 829, 657, 355, 443, 515, 495, 749, 245, 297, 691, 775, 879, 825, 407, 153, 755, 575, 803, 725, 677, 615, 805, 401, 601, 453, 381, 801, 459, 119, 615, 847, 705, 649]\n",
      "Even numbers (45): [394, 616, 460, 494, 694, 634, 372, 412, 242, 182, 558, 818, 776, 814, 704, 844, 590, 676, 794, 302, 826, 538, 648, 640, 524, 766, 380, 206, 840, 146, 588, 560, 810, 646, 574, 592, 884, 400, 388, 748, 444, 382, 774, 836, 210]\n",
      "Prime numbers (14): [563, 499, 541, 839, 367, 107, 383, 383, 829, 443, 691, 677, 401, 601]\n"
     ]
    }
   ],
   "source": [
    "import random\n",
    "\n",
    "def is_prime(n):\n",
    "    if n < 2:\n",
    "        return False\n",
    "    for i in range(2, int(n ** 0.5) + 1):\n",
    "        if n % i == 0:\n",
    "            return False\n",
    "    return True\n",
    "\n",
    "random_numbers = [random.randint(100, 900) for _ in range(100)]\n",
    "\n",
    "odd_numbers = [num for num in random_numbers if num % 2 != 0]\n",
    "even_numbers = [num for num in random_numbers if num % 2 == 0]\n",
    "prime_numbers = [num for num in random_numbers if is_prime(num)]\n",
    "\n",
    "print(f\"Odd numbers ({len(odd_numbers)}): {odd_numbers}\")\n",
    "print(f\"Even numbers ({len(even_numbers)}): {even_numbers}\")\n",
    "print(f\"Prime numbers ({len(prime_numbers)}): {prime_numbers}\")\n"
   ]
  },
  {
   "cell_type": "markdown",
   "metadata": {},
   "source": [
    "4. Consider the following two sets, A and B, represenƟng scores of two teams in mulƟple\n",
    "matches. A = {34, 56, 78, 90} and B = {78, 45, 90, 23}\n",
    "WAP to perform the following operaƟons using set funcƟons:\n",
    "i. Find the unique scores achieved by both teams (union of sets).\n",
    "ii. IdenƟfy the scores that are common to both teams (intersecƟon of sets).\n",
    "iii. Find the scores that are exclusive to each team (symmetric difference).\n",
    "iv. Check if the scores of team A are a subset of team B, and if team B's scores are\n",
    "a superset of team A.\n",
    "v. Remove a specific score X (input by the user) from set A if it exists. If not, print\n",
    "a message saying it is not present."
   ]
  },
  {
   "cell_type": "code",
   "execution_count": null,
   "metadata": {},
   "outputs": [
    {
     "name": "stdout",
     "output_type": "stream",
     "text": [
      "Unique scores (Union): {34, 45, 78, 23, 56, 90}\n",
      "Common scores (Intersection): {90, 78}\n",
      "Exclusive scores (Symmetric Difference): {34, 45, 23, 56}\n",
      "Is A a subset of B? False\n",
      "Is B a superset of A? False\n"
     ]
    }
   ],
   "source": [
    "A = {34, 56, 78, 90}\n",
    "B = {78, 45, 90, 23}\n",
    "\n",
    "union_scores = A | B  \n",
    "print(f\"Unique scores (Union): {union_scores}\")\n",
    "\n",
    "common_scores = A & B  \n",
    "print(f\"Common scores (Intersection): {common_scores}\")\n",
    "\n",
    "exclusive_scores = A ^ B  \n",
    "print(f\"Exclusive scores (Symmetric Difference): {exclusive_scores}\")\n",
    "\n",
    "is_A_subset_B = A.issubset(B)\n",
    "is_B_superset_A = B.issuperset(A)\n",
    "print(f\"Is A a subset of B? {is_A_subset_B}\")\n",
    "print(f\"Is B a superset of A? {is_B_superset_A}\")\n",
    "\n",
    "X = int(input(\"Enter a score to remove from A: \"))  \n",
    "if X in A:\n",
    "    A.remove(X)\n",
    "    print(f\"Score {X} removed from A. Updated A: {A}\")\n",
    "else:\n",
    "    print(f\"Score {X} is not present in A.\")\n"
   ]
  },
  {
   "cell_type": "markdown",
   "metadata": {},
   "source": [
    "5. Write a program to rename a key city to a locaƟon in the following dicƟonary.\n",
    "sample_dict={\"name\":\"kelly\", \"age\":25,\"salary\":8000,\"city\":\"New York\"}"
   ]
  },
  {
   "cell_type": "code",
   "execution_count": 3,
   "metadata": {},
   "outputs": [
    {
     "name": "stdout",
     "output_type": "stream",
     "text": [
      "{'name': 'kelly', 'age': 25, 'salary': 8000, 'location': 'New York'}\n"
     ]
    }
   ],
   "source": [
    "sample_dict = {\n",
    "    \"name\" : \"kelly\",\n",
    "    \"age\" :  25,\n",
    "    \"salary\" : 8000,\n",
    "    \"city\" : \"New York\"\n",
    "}\n",
    "\n",
    "sample_dict[\"location\"] = sample_dict.pop(\"city\")\n",
    "print(sample_dict)"
   ]
  }
 ],
 "metadata": {
  "kernelspec": {
   "display_name": "Python 3",
   "language": "python",
   "name": "python3"
  },
  "language_info": {
   "codemirror_mode": {
    "name": "ipython",
    "version": 3
   },
   "file_extension": ".py",
   "mimetype": "text/x-python",
   "name": "python",
   "nbconvert_exporter": "python",
   "pygments_lexer": "ipython3",
   "version": "3.13.1"
  }
 },
 "nbformat": 4,
 "nbformat_minor": 2
}
